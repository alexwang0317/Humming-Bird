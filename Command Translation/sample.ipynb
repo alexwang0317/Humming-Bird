{
 "cells": [
  {
   "cell_type": "markdown",
   "metadata": {},
   "source": [
    "## Sample Code\n",
    "\n",
    "The following is a sample of how to use the different components, as they are kept rather modular in order for you to build pipelines as needed. \n",
    "\n",
    "Each class is integrated together into a simple code-generation pipeline using the MAVSdk library. "
   ]
  },
  {
   "cell_type": "code",
   "execution_count": 22,
   "metadata": {},
   "outputs": [
    {
     "ename": "SyntaxError",
     "evalue": "invalid syntax (56689523.py, line 2)",
     "output_type": "error",
     "traceback": [
      "\u001b[0;36m  Cell \u001b[0;32mIn[22], line 2\u001b[0;36m\u001b[0m\n\u001b[0;31m    pip install --upgrade openai\u001b[0m\n\u001b[0m        ^\u001b[0m\n\u001b[0;31mSyntaxError\u001b[0m\u001b[0;31m:\u001b[0m invalid syntax\n"
     ]
    }
   ],
   "source": [
    "# This may be needed to ensure that you have the latest version of the OpenAI library. \n",
    "pip install --upgrade openai"
   ]
  },
  {
   "cell_type": "code",
   "execution_count": 24,
   "metadata": {},
   "outputs": [
    {
     "name": "stderr",
     "output_type": "stream",
     "text": [
      "/Users/alexwang/Humming-Bird/drone/lib/python3.11/site-packages/whisper/__init__.py:146: FutureWarning: You are using `torch.load` with `weights_only=False` (the current default value), which uses the default pickle module implicitly. It is possible to construct malicious pickle data which will execute arbitrary code during unpickling (See https://github.com/pytorch/pytorch/blob/main/SECURITY.md#untrusted-models for more details). In a future release, the default value for `weights_only` will be flipped to `True`. This limits the functions that could be executed during unpickling. Arbitrary objects will no longer be allowed to be loaded via this mode unless they are explicitly allowlisted by the user via `torch.serialization.add_safe_globals`. We recommend you start setting `weights_only=True` for any use case where you don't have full control of the loaded file. Please open an issue on GitHub for any issues related to this experimental feature.\n",
      "  checkpoint = torch.load(fp, map_location=device)\n"
     ]
    },
    {
     "name": "stdout",
     "output_type": "stream",
     "text": [
      "Listening... Press Ctrl+C to stop.\n"
     ]
    }
   ],
   "source": [
    "from transcribe import AudioRecorder\n",
    "\n",
    "# In order to stop the recording => simply stop running the jupyter notebook cell => ctrl + c is used for the terminal specifically. \n",
    "\n",
    "audio_recorder = AudioRecorder(duration=5)  # Record for 5 seconds\n",
    "transcript = audio_recorder.run()\n",
    "print(transcript)"
   ]
  },
  {
   "cell_type": "code",
   "execution_count": 15,
   "metadata": {},
   "outputs": [
    {
     "name": "stdout",
     "output_type": "stream",
     "text": [
      "Drone Command Plan:\n",
      "\n",
      "1. Initialize the communication with the drone using MavSDK library.\n",
      "2. Take off the drone to hover in the air.\n",
      "3. Wait for five seconds.\n",
      "4. Command the drone to follow the specified path or move to a specific location in the air.\n",
      "5. Provide continuous updates to ensure the drone follows accurately.\n",
      "6. Monitor the drone's position and adjust its trajectory as needed to maintain the desired follow mode.\n",
      "7. Ensure the drone stays in control and maintains a safe operational state during the entire process.\n",
      "8. Upon completion of the task, safely land the drone.\n"
     ]
    }
   ],
   "source": [
    "from plan_agent import DroneCommandPlanner\n",
    "\n",
    "# This uses the plan_agent, which essentially takes the transcript and converts it into a comprehensive step-by-step plan for the drone to follow.\n",
    "planner = DroneCommandPlanner()\n",
    "command = transcript\n",
    "plan = planner.get_plan(command)\n",
    "print(\"Drone Command Plan:\\n\")\n",
    "print(plan)\n"
   ]
  },
  {
   "cell_type": "code",
   "execution_count": 16,
   "metadata": {},
   "outputs": [
    {
     "name": "stdout",
     "output_type": "stream",
     "text": [
      "Generated Code:\n",
      "\n",
      "import asyncio\n",
      "from mavsdk import System\n",
      "from mavsdk import telemetry\n",
      "\n",
      "async def run():\n",
      "    drone = System()\n",
      "    \n",
      "    try:\n",
      "        await drone.connect(system_address=\"udp://:14540\")\n",
      "        print(\"Drone connected!\")\n",
      "    \n",
      "        async for state in drone.core.connection_state():\n",
      "            if state.is_connected:\n",
      "                print(\"Drone discovered!\")\n",
      "                break\n",
      "        \n",
      "        async for health in drone.telemetry.health():\n",
      "            if health.is_gyrometer_calibration_ok:\n",
      "                print(\"Drone gyrometer calibrated!\")\n",
      "                break\n",
      "\n",
      "        await drone.action.arm()\n",
      "        await drone.action.takeoff()\n",
      "\n",
      "        \n",
      "        await asyncio.sleep(5)\n",
      "\n",
      "        # Specify the path to follow or location to move\n",
      "        target_location = telemetry.PositionNedYaw(\n",
      "            5.0, # North position (m)\n",
      "            5.0, # East position (m)\n",
      "            -10.0, # Down position (m)\n",
      "            0.0) # Yaw angle (degrees)\n",
      "        await drone.action.goto_location(target_location)\n",
      "\n",
      "        # Continuous updates for following accurately\n",
      "        async for position in drone.telemetry.position_velocity_ned():\n",
      "            # Monitor drone's position and adjust trajectory as needed\n",
      "\n",
      "            if position.position.z_m > -5.0:  # Safety check to maintain altitude\n",
      "                await drone.action.go_home()\n",
      "        \n",
      "        await drone.action.land()\n",
      "\n",
      "    except Exception as e:\n",
      "        print(f\"Error during execution: {e}\")\n",
      "    \n",
      "    finally:\n",
      "        await drone.action.disarm()\n",
      "        await drone.disconnect()\n",
      "\n",
      "asyncio.get_event_loop().run_until_complete(run())\n"
     ]
    }
   ],
   "source": [
    "# This is the code agent, which takes the plan and converts it into code that can be run on the drone, this file needs to then by SSH-ed into the drone and run on the drone.\n",
    "from code_agent import MavSDKCodeGenerator\n",
    "\n",
    "coder = MavSDKCodeGenerator()\n",
    "code = coder.generate_code(plan)\n",
    "print(\"Generated Code:\\n\")\n",
    "print(code)\n",
    "\n",
    "# This prints a sample of the code. However, the actual code file will be saved as drone_script.py in the current directory.\n",
    "# Access this, and send that to the drone with SSH. \n",
    "\n"
   ]
  },
  {
   "cell_type": "code",
   "execution_count": null,
   "metadata": {},
   "outputs": [],
   "source": []
  }
 ],
 "metadata": {
  "kernelspec": {
   "display_name": "drone",
   "language": "python",
   "name": "python3"
  },
  "language_info": {
   "codemirror_mode": {
    "name": "ipython",
    "version": 3
   },
   "file_extension": ".py",
   "mimetype": "text/x-python",
   "name": "python",
   "nbconvert_exporter": "python",
   "pygments_lexer": "ipython3",
   "version": "3.11.3"
  },
  "orig_nbformat": 4
 },
 "nbformat": 4,
 "nbformat_minor": 2
}
